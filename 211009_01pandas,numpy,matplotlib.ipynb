{
  "nbformat": 4,
  "nbformat_minor": 0,
  "metadata": {
    "colab": {
      "name": "211009_01pandas,numpy,matplotlib.ipynb",
      "provenance": [],
      "collapsed_sections": [],
      "mount_file_id": "1mARi4USygqCp5odHLAPp1_TlaKf1HMzt",
      "authorship_tag": "ABX9TyNwdZLkHlny4nqdE8us3FVB",
      "include_colab_link": true
    },
    "kernelspec": {
      "name": "python3",
      "display_name": "Python 3"
    },
    "language_info": {
      "name": "python"
    }
  },
  "cells": [
    {
      "cell_type": "markdown",
      "metadata": {
        "id": "view-in-github",
        "colab_type": "text"
      },
      "source": [
        "<a href=\"https://colab.research.google.com/github/hangnew/data_analysis/blob/main/211009_01pandas%2Cnumpy%2Cmatplotlib.ipynb\" target=\"_parent\"><img src=\"https://colab.research.google.com/assets/colab-badge.svg\" alt=\"Open In Colab\"/></a>"
      ]
    },
    {
      "cell_type": "markdown",
      "metadata": {
        "id": "HhuSShyhsaEO"
      },
      "source": [
        "# 1. pandas 사용법"
      ]
    },
    {
      "cell_type": "code",
      "metadata": {
        "id": "l4Ji9Ha1kD6S"
      },
      "source": [
        "import pandas as pd"
      ],
      "execution_count": null,
      "outputs": []
    },
    {
      "cell_type": "code",
      "metadata": {
        "id": "YJlp0EzMkiaD"
      },
      "source": [
        "# pandas의 data frame 생성\n",
        "names = ['Bob', 'Jessica', 'Mary', 'John', 'Mel']\n",
        "births = [968, 155, 77, 578, 973]\n",
        "custom = [1, 5, 25, 13, 23232]"
      ],
      "execution_count": null,
      "outputs": []
    },
    {
      "cell_type": "code",
      "metadata": {
        "id": "A21yoi-uky0I"
      },
      "source": [
        "BabyDataSet = list(zip(names, births))\n",
        "df = pd.DataFrame(data=BabyDataSet, columns=['Names', 'Births'])"
      ],
      "execution_count": null,
      "outputs": []
    },
    {
      "cell_type": "code",
      "metadata": {
        "colab": {
          "base_uri": "https://localhost:8080/",
          "height": 204
        },
        "id": "bYXD-9DUlGpf",
        "outputId": "ee18ae36-178b-4693-9973-7442c8aae8a1"
      },
      "source": [
        "df.head()"
      ],
      "execution_count": null,
      "outputs": [
        {
          "output_type": "execute_result",
          "data": {
            "text/html": [
              "<div>\n",
              "<style scoped>\n",
              "    .dataframe tbody tr th:only-of-type {\n",
              "        vertical-align: middle;\n",
              "    }\n",
              "\n",
              "    .dataframe tbody tr th {\n",
              "        vertical-align: top;\n",
              "    }\n",
              "\n",
              "    .dataframe thead th {\n",
              "        text-align: right;\n",
              "    }\n",
              "</style>\n",
              "<table border=\"1\" class=\"dataframe\">\n",
              "  <thead>\n",
              "    <tr style=\"text-align: right;\">\n",
              "      <th></th>\n",
              "      <th>Names</th>\n",
              "      <th>Births</th>\n",
              "    </tr>\n",
              "  </thead>\n",
              "  <tbody>\n",
              "    <tr>\n",
              "      <th>0</th>\n",
              "      <td>Bob</td>\n",
              "      <td>968</td>\n",
              "    </tr>\n",
              "    <tr>\n",
              "      <th>1</th>\n",
              "      <td>Jessica</td>\n",
              "      <td>155</td>\n",
              "    </tr>\n",
              "    <tr>\n",
              "      <th>2</th>\n",
              "      <td>Mary</td>\n",
              "      <td>77</td>\n",
              "    </tr>\n",
              "    <tr>\n",
              "      <th>3</th>\n",
              "      <td>John</td>\n",
              "      <td>578</td>\n",
              "    </tr>\n",
              "    <tr>\n",
              "      <th>4</th>\n",
              "      <td>Mel</td>\n",
              "      <td>973</td>\n",
              "    </tr>\n",
              "  </tbody>\n",
              "</table>\n",
              "</div>"
            ],
            "text/plain": [
              "     Names  Births\n",
              "0      Bob     968\n",
              "1  Jessica     155\n",
              "2     Mary      77\n",
              "3     John     578\n",
              "4      Mel     973"
            ]
          },
          "metadata": {},
          "execution_count": 4
        }
      ]
    },
    {
      "cell_type": "code",
      "metadata": {
        "colab": {
          "base_uri": "https://localhost:8080/"
        },
        "id": "BqJeYPSIlL5W",
        "outputId": "afb953a9-e17e-4654-8dba-00c06aeafdf3"
      },
      "source": [
        "# 데이터프레임의 열 columns 타입 정보를 출력 -> dtypes\n",
        "# 데이터프레임의 열마다 값들이 어떤 타입인지 알 수 있다.\n",
        "print(df.dtypes) "
      ],
      "execution_count": null,
      "outputs": [
        {
          "output_type": "stream",
          "name": "stdout",
          "text": [
            "Names     object\n",
            "Births     int64\n",
            "dtype: object\n"
          ]
        }
      ]
    },
    {
      "cell_type": "code",
      "metadata": {
        "colab": {
          "base_uri": "https://localhost:8080/"
        },
        "id": "Cd85OR_RmJmL",
        "outputId": "7e843286-3723-48c2-9f68-76a7028df507"
      },
      "source": [
        "# 데이터프레임의 열 columns 정보 출력 -> columns\n",
        "# dtypes와 거의 같지만, 간략한 정보만 출력해준다\n",
        "print(df.columns)"
      ],
      "execution_count": null,
      "outputs": [
        {
          "output_type": "stream",
          "name": "stdout",
          "text": [
            "Index(['Names', 'Births'], dtype='object')\n"
          ]
        }
      ]
    },
    {
      "cell_type": "code",
      "metadata": {
        "colab": {
          "base_uri": "https://localhost:8080/"
        },
        "id": "we7IZFk3lcQU",
        "outputId": "825c03b4-f147-4f8e-c0dd-85b08c1f6b40"
      },
      "source": [
        "# 데이터프레임의 행 rows 형태 정보를 출력 -> index\n",
        "print(df.index)"
      ],
      "execution_count": null,
      "outputs": [
        {
          "output_type": "stream",
          "name": "stdout",
          "text": [
            "RangeIndex(start=0, stop=5, step=1)\n"
          ]
        }
      ]
    },
    {
      "cell_type": "code",
      "metadata": {
        "colab": {
          "base_uri": "https://localhost:8080/"
        },
        "id": "VlbxWcU8lyQ4",
        "outputId": "1fd71d90-b17b-41fe-ce6a-55bd9d90661c"
      },
      "source": [
        "# 데이터프레임의 한 컬럼의 값만 출력 -> 데이터프레임['컬럼명']\n",
        "df['Names']"
      ],
      "execution_count": null,
      "outputs": [
        {
          "output_type": "execute_result",
          "data": {
            "text/plain": [
              "0        Bob\n",
              "1    Jessica\n",
              "2       Mary\n",
              "3       John\n",
              "4        Mel\n",
              "Name: Names, dtype: object"
            ]
          },
          "metadata": {},
          "execution_count": 8
        }
      ]
    },
    {
      "cell_type": "code",
      "metadata": {
        "colab": {
          "base_uri": "https://localhost:8080/",
          "height": 142
        },
        "id": "7-nu48o0mioG",
        "outputId": "a1ed7ae2-ce3f-48dc-f47d-c426c3bd8f7f"
      },
      "source": [
        "# 데이터프레임의 row 들 출력 -> 데이터프레임[인덱스의 범위]\n",
        "df[0:3]"
      ],
      "execution_count": null,
      "outputs": [
        {
          "output_type": "execute_result",
          "data": {
            "text/html": [
              "<div>\n",
              "<style scoped>\n",
              "    .dataframe tbody tr th:only-of-type {\n",
              "        vertical-align: middle;\n",
              "    }\n",
              "\n",
              "    .dataframe tbody tr th {\n",
              "        vertical-align: top;\n",
              "    }\n",
              "\n",
              "    .dataframe thead th {\n",
              "        text-align: right;\n",
              "    }\n",
              "</style>\n",
              "<table border=\"1\" class=\"dataframe\">\n",
              "  <thead>\n",
              "    <tr style=\"text-align: right;\">\n",
              "      <th></th>\n",
              "      <th>Names</th>\n",
              "      <th>Births</th>\n",
              "    </tr>\n",
              "  </thead>\n",
              "  <tbody>\n",
              "    <tr>\n",
              "      <th>0</th>\n",
              "      <td>Bob</td>\n",
              "      <td>968</td>\n",
              "    </tr>\n",
              "    <tr>\n",
              "      <th>1</th>\n",
              "      <td>Jessica</td>\n",
              "      <td>155</td>\n",
              "    </tr>\n",
              "    <tr>\n",
              "      <th>2</th>\n",
              "      <td>Mary</td>\n",
              "      <td>77</td>\n",
              "    </tr>\n",
              "  </tbody>\n",
              "</table>\n",
              "</div>"
            ],
            "text/plain": [
              "     Names  Births\n",
              "0      Bob     968\n",
              "1  Jessica     155\n",
              "2     Mary      77"
            ]
          },
          "metadata": {},
          "execution_count": 10
        }
      ]
    },
    {
      "cell_type": "code",
      "metadata": {
        "colab": {
          "base_uri": "https://localhost:8080/",
          "height": 173
        },
        "id": "Cg2S4huhmtGk",
        "outputId": "4ff0ee48-a0d4-4f87-9e86-c2b9fea293e0"
      },
      "source": [
        "# 'Births' 열이 100보다 큰 데이터 선택\n",
        "# df['컬럼명']을 조건문의 조건으로도 사용할 수 있다.\n",
        "# 데이터 프레임의 [ [데이터 프레임의 'Births' 컬럼]이 100보다 큰 경우 ]\n",
        "df[df['Births'] > 100]"
      ],
      "execution_count": null,
      "outputs": [
        {
          "output_type": "execute_result",
          "data": {
            "text/html": [
              "<div>\n",
              "<style scoped>\n",
              "    .dataframe tbody tr th:only-of-type {\n",
              "        vertical-align: middle;\n",
              "    }\n",
              "\n",
              "    .dataframe tbody tr th {\n",
              "        vertical-align: top;\n",
              "    }\n",
              "\n",
              "    .dataframe thead th {\n",
              "        text-align: right;\n",
              "    }\n",
              "</style>\n",
              "<table border=\"1\" class=\"dataframe\">\n",
              "  <thead>\n",
              "    <tr style=\"text-align: right;\">\n",
              "      <th></th>\n",
              "      <th>Names</th>\n",
              "      <th>Births</th>\n",
              "    </tr>\n",
              "  </thead>\n",
              "  <tbody>\n",
              "    <tr>\n",
              "      <th>0</th>\n",
              "      <td>Bob</td>\n",
              "      <td>968</td>\n",
              "    </tr>\n",
              "    <tr>\n",
              "      <th>1</th>\n",
              "      <td>Jessica</td>\n",
              "      <td>155</td>\n",
              "    </tr>\n",
              "    <tr>\n",
              "      <th>3</th>\n",
              "      <td>John</td>\n",
              "      <td>578</td>\n",
              "    </tr>\n",
              "    <tr>\n",
              "      <th>4</th>\n",
              "      <td>Mel</td>\n",
              "      <td>973</td>\n",
              "    </tr>\n",
              "  </tbody>\n",
              "</table>\n",
              "</div>"
            ],
            "text/plain": [
              "     Names  Births\n",
              "0      Bob     968\n",
              "1  Jessica     155\n",
              "3     John     578\n",
              "4      Mel     973"
            ]
          },
          "metadata": {},
          "execution_count": 12
        }
      ]
    },
    {
      "cell_type": "code",
      "metadata": {
        "colab": {
          "base_uri": "https://localhost:8080/",
          "height": 297
        },
        "id": "yaCC9kk7nefC",
        "outputId": "967c793f-bf5e-4e5b-db04-8e5d477ddc00"
      },
      "source": [
        "# 데이터프레임 통계 정보 출력\n",
        "df.describe()"
      ],
      "execution_count": null,
      "outputs": [
        {
          "output_type": "execute_result",
          "data": {
            "text/html": [
              "<div>\n",
              "<style scoped>\n",
              "    .dataframe tbody tr th:only-of-type {\n",
              "        vertical-align: middle;\n",
              "    }\n",
              "\n",
              "    .dataframe tbody tr th {\n",
              "        vertical-align: top;\n",
              "    }\n",
              "\n",
              "    .dataframe thead th {\n",
              "        text-align: right;\n",
              "    }\n",
              "</style>\n",
              "<table border=\"1\" class=\"dataframe\">\n",
              "  <thead>\n",
              "    <tr style=\"text-align: right;\">\n",
              "      <th></th>\n",
              "      <th>Births</th>\n",
              "    </tr>\n",
              "  </thead>\n",
              "  <tbody>\n",
              "    <tr>\n",
              "      <th>count</th>\n",
              "      <td>5.000000</td>\n",
              "    </tr>\n",
              "    <tr>\n",
              "      <th>mean</th>\n",
              "      <td>550.200000</td>\n",
              "    </tr>\n",
              "    <tr>\n",
              "      <th>std</th>\n",
              "      <td>428.424672</td>\n",
              "    </tr>\n",
              "    <tr>\n",
              "      <th>min</th>\n",
              "      <td>77.000000</td>\n",
              "    </tr>\n",
              "    <tr>\n",
              "      <th>25%</th>\n",
              "      <td>155.000000</td>\n",
              "    </tr>\n",
              "    <tr>\n",
              "      <th>50%</th>\n",
              "      <td>578.000000</td>\n",
              "    </tr>\n",
              "    <tr>\n",
              "      <th>75%</th>\n",
              "      <td>968.000000</td>\n",
              "    </tr>\n",
              "    <tr>\n",
              "      <th>max</th>\n",
              "      <td>973.000000</td>\n",
              "    </tr>\n",
              "  </tbody>\n",
              "</table>\n",
              "</div>"
            ],
            "text/plain": [
              "           Births\n",
              "count    5.000000\n",
              "mean   550.200000\n",
              "std    428.424672\n",
              "min     77.000000\n",
              "25%    155.000000\n",
              "50%    578.000000\n",
              "75%    968.000000\n",
              "max    973.000000"
            ]
          },
          "metadata": {},
          "execution_count": 14
        }
      ]
    },
    {
      "cell_type": "code",
      "metadata": {
        "colab": {
          "base_uri": "https://localhost:8080/"
        },
        "id": "JHbheye5m8KI",
        "outputId": "d28aaa93-1ede-4039-fa23-0b553fdfc5f7"
      },
      "source": [
        "# 데이터프레임에서 평균값 계산 -> mean()\n",
        "df.mean()"
      ],
      "execution_count": null,
      "outputs": [
        {
          "output_type": "execute_result",
          "data": {
            "text/plain": [
              "Births    550.2\n",
              "dtype: float64"
            ]
          },
          "metadata": {},
          "execution_count": 15
        }
      ]
    },
    {
      "cell_type": "markdown",
      "metadata": {
        "id": "0CSJ0Y_D3JC4"
      },
      "source": [
        "# 2. Numpy 사용법"
      ]
    },
    {
      "cell_type": "code",
      "metadata": {
        "id": "awf_w_B43EnK"
      },
      "source": [
        "import numpy as np"
      ],
      "execution_count": null,
      "outputs": []
    },
    {
      "cell_type": "code",
      "metadata": {
        "colab": {
          "base_uri": "https://localhost:8080/"
        },
        "id": "AN1VMV6e3XAU",
        "outputId": "e59ae13c-7cb8-4be6-b7f2-e53a732ef011"
      },
      "source": [
        "# numpy 배열 생성 -> arange(요소 개수)\n",
        "# 일반 python 배열과 다르고 vector 연산 혹은 행렬 연산을 위해 만들어진 자료구조이며\n",
        "# arange() 함수로 일반 배열을 numpy 배열로 형변환 할 수 있다.\n",
        "np.arange(10)"
      ],
      "execution_count": null,
      "outputs": [
        {
          "output_type": "execute_result",
          "data": {
            "text/plain": [
              "array([0, 1, 2, 3, 4, 5, 6, 7, 8, 9])"
            ]
          },
          "metadata": {},
          "execution_count": 17
        }
      ]
    },
    {
      "cell_type": "code",
      "metadata": {
        "colab": {
          "base_uri": "https://localhost:8080/"
        },
        "id": "BN94Umgs3X_t",
        "outputId": "a604a22a-ef7d-4ecb-db3f-0df4ab739c7c"
      },
      "source": [
        "# numpy배열을 2차원 배열로 만들어준다 -> reshape(행, 열)\n",
        "np.arange(15).reshape(3,5)"
      ],
      "execution_count": null,
      "outputs": [
        {
          "output_type": "execute_result",
          "data": {
            "text/plain": [
              "array([[ 0,  1,  2,  3,  4],\n",
              "       [ 5,  6,  7,  8,  9],\n",
              "       [10, 11, 12, 13, 14]])"
            ]
          },
          "metadata": {},
          "execution_count": 18
        }
      ]
    },
    {
      "cell_type": "code",
      "metadata": {
        "colab": {
          "base_uri": "https://localhost:8080/"
        },
        "id": "uabWK8xT3ZH7",
        "outputId": "2701bdcb-b002-47df-8d7e-5d2cc115a7dd"
      },
      "source": [
        "# numpy 배열의 행렬 차원을 보여준다 --> shape\n",
        "arr1 = np.arange(15).reshape(3, 5)\n",
        "print(arr1.shape)"
      ],
      "execution_count": null,
      "outputs": [
        {
          "output_type": "stream",
          "name": "stdout",
          "text": [
            "(3, 5)\n"
          ]
        }
      ]
    },
    {
      "cell_type": "code",
      "metadata": {
        "colab": {
          "base_uri": "https://localhost:8080/"
        },
        "id": "GJLS56Ef3aiO",
        "outputId": "1d52d0d8-0e71-4acf-9642-d29e39c15841"
      },
      "source": [
        "# pandas와 마찬가지로 dtype함수를 통해 데이터 타입을 확인할 수 있다\n",
        "arr1.dtype"
      ],
      "execution_count": null,
      "outputs": [
        {
          "output_type": "execute_result",
          "data": {
            "text/plain": [
              "dtype('int64')"
            ]
          },
          "metadata": {},
          "execution_count": 20
        }
      ]
    },
    {
      "cell_type": "code",
      "metadata": {
        "colab": {
          "base_uri": "https://localhost:8080/"
        },
        "id": "eDj-nBSO3b_k",
        "outputId": "6d8d4a46-1345-4678-ddf0-a1e4b763099f"
      },
      "source": [
        "# zeros((행,열)) / ones((행,열)) -> numpy 에서 가장 많이 쓰이는 함수\n",
        "# 0 혹은 1로 구성된 배열을 생성해준다\n",
        "print(np.zeros((3,5)))\n",
        "print(np.ones((3,5)))"
      ],
      "execution_count": null,
      "outputs": [
        {
          "output_type": "stream",
          "name": "stdout",
          "text": [
            "[[0. 0. 0. 0. 0.]\n",
            " [0. 0. 0. 0. 0.]\n",
            " [0. 0. 0. 0. 0.]]\n",
            "[[1. 1. 1. 1. 1.]\n",
            " [1. 1. 1. 1. 1.]\n",
            " [1. 1. 1. 1. 1.]]\n"
          ]
        }
      ]
    },
    {
      "cell_type": "code",
      "metadata": {
        "colab": {
          "base_uri": "https://localhost:8080/"
        },
        "id": "k0wNGkgV3dFF",
        "outputId": "f4f0f32a-9d9c-4e7f-cc10-ddd455af44d6"
      },
      "source": [
        "# numpy의 사칙 연산\n",
        "# 연산시키려는 객체의 shape이 같아야 한다.\n",
        "py_arr1 = [1, 2, 3, 4, 5, 6]\n",
        "py_arr2 = [7, 8, 9, 10, 11, 12]\n",
        "arr3 = np.array(py_arr1).reshape(2, 3)\n",
        "arr4 = np.array(py_arr2).reshape(2, 3)\n",
        "print(arr3 + arr4)\n",
        "print(arr3 - arr4)\n",
        "print(arr3 * arr4)\n",
        "print(arr3 / arr4)"
      ],
      "execution_count": null,
      "outputs": [
        {
          "output_type": "stream",
          "name": "stdout",
          "text": [
            "[[ 8 10 12]\n",
            " [14 16 18]]\n",
            "[[-6 -6 -6]\n",
            " [-6 -6 -6]]\n",
            "[[ 7 16 27]\n",
            " [40 55 72]]\n",
            "[[0.14285714 0.25       0.33333333]\n",
            " [0.4        0.45454545 0.5       ]]\n"
          ]
        }
      ]
    },
    {
      "cell_type": "markdown",
      "metadata": {
        "id": "wlbhWNAR3iPL"
      },
      "source": [
        "# 3. Matplotlib 사용법"
      ]
    },
    {
      "cell_type": "code",
      "metadata": {
        "id": "8mqgWZwj3eVC"
      },
      "source": [
        "# colab / jupyter 노트북에서 Matplotlib을 사용할 땐 inline으로 출력한다는 명령어를 함께 써주어야 한다.\n",
        "%matplotlib inline\n",
        "import matplotlib.pyplot as plt"
      ],
      "execution_count": null,
      "outputs": []
    },
    {
      "cell_type": "code",
      "metadata": {
        "colab": {
          "base_uri": "https://localhost:8080/"
        },
        "id": "jnxR96S-3mpf",
        "outputId": "625255fa-00ee-42ec-ccd8-db45fc6dbd8b"
      },
      "source": [
        "x = df['Names']\n",
        "y = df['Births']"
      ],
      "execution_count": null,
      "outputs": [
        {
          "output_type": "stream",
          "name": "stdout",
          "text": [
            "0        Bob\n",
            "1    Jessica\n",
            "2       Mary\n",
            "3       John\n",
            "4        Mel\n",
            "Name: Names, dtype: object\n"
          ]
        }
      ]
    },
    {
      "cell_type": "code",
      "metadata": {
        "colab": {
          "base_uri": "https://localhost:8080/",
          "height": 295
        },
        "id": "VWPQtYpK3wK6",
        "outputId": "20050b82-ae22-4e80-a585-f67266e0a7ae"
      },
      "source": [
        "# 원하는 그래프의 객체를 생성해주어야 한다.\n",
        "plt.bar(x, y) # 막대 그래프\n",
        "plt.xlabel('Names') # x축 제목\n",
        "plt.ylabel('Births') # y축 제목\n",
        "plt.title('Bar plot') # 그래프 제목\n",
        "plt.show() # 그래프 출력"
      ],
      "execution_count": null,
      "outputs": [
        {
          "output_type": "display_data",
          "data": {
            "image/png": "[encoded data removed]",
            "text/plain": [
              "<Figure size 432x288 with 1 Axes>"
            ]
          },
          "metadata": {
            "needs_background": "light"
          }
        }
      ]
    },
    {
      "cell_type": "code",
      "metadata": {
        "colab": {
          "base_uri": "https://localhost:8080/",
          "height": 295
        },
        "id": "i5kh0XVL4Rqg",
        "outputId": "a6efca7e-2899-4773-c996-93c3f1eea1e6"
      },
      "source": [
        "# scatter plot 데이터 생성\n",
        "np.random.seed(19920613) # 랜덤 추출 시드 고정\n",
        "x = np.arange(0.0, 100.0, 5.0)\n",
        "y = (x * 1.5) + np.random.rand(20) * 50\n",
        "\n",
        "# scatter plot 출력\n",
        "# x축 데이터, y축 데이터, 점의 컬러, scatter plot의 점 크기 (0-1), legend의 label)\n",
        "plt.scatter(x, y, c=\"r\", alpha=1, label=\"scatter plot\")\n",
        "plt.xlabel(\"X\")\n",
        "plt.ylabel(\"Y\")\n",
        "plt.legend(loc=\"upper left\") # 레전드 설명 위치\n",
        "plt.title(\"Scatter plot\")\n",
        "plt.show()"
      ],
      "execution_count": null,
      "outputs": [
        {
          "output_type": "display_data",
          "data": {
            "image/png": "[encoded data removed]",
            "text/plain": [
              "<Figure size 432x288 with 1 Axes>"
            ]
          },
          "metadata": {
            "needs_background": "light"
          }
        }
      ]
    },
    {
      "cell_type": "code",
      "metadata": {
        "id": "2RY4iu0b5gTe"
      },
      "source": [
        ""
      ],
      "execution_count": null,
      "outputs": []
    }
  ]
}